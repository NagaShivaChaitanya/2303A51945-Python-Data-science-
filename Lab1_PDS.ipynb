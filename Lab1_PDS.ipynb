{
  "nbformat": 4,
  "nbformat_minor": 0,
  "metadata": {
    "colab": {
      "provenance": [],
      "authorship_tag": "ABX9TyPF09btXWhR0qO1onEk+/7o",
      "include_colab_link": true
    },
    "kernelspec": {
      "name": "python3",
      "display_name": "Python 3"
    },
    "language_info": {
      "name": "python"
    }
  },
  "cells": [
    {
      "cell_type": "markdown",
      "metadata": {
        "id": "view-in-github",
        "colab_type": "text"
      },
      "source": [
        "<a href=\"https://colab.research.google.com/github/NagaShivaChaitanya/2303A51945-Python-Data-science-/blob/main/Lab_1.ipynb\" target=\"_parent\"><img src=\"https://colab.research.google.com/assets/colab-badge.svg\" alt=\"Open In Colab\"/></a>"
      ]
    },
    {
      "cell_type": "code",
      "execution_count": 2,
      "metadata": {
        "colab": {
          "base_uri": "https://localhost:8080/"
        },
        "id": "LQeGqW4a5WY5",
        "outputId": "ee9559ca-4a9b-4873-b6b2-5f179d313a6e"
      },
      "outputs": [
        {
          "output_type": "stream",
          "name": "stdout",
          "text": [
            "=== Permutation Calculator (nPr) ===\n",
            "Enter total number of people/items (n): 5\n",
            "Enter number of places/positions (r): 4\n",
            "\n",
            "Computing 5P4 using nPr = n! / (n - r)!\n",
            "Step 1: Calculate n!:\n",
            "factorial(5)\n",
            "  factorial(4)\n",
            "    factorial(3)\n",
            "      factorial(2)\n",
            "        factorial(1)\n",
            "\n",
            "Step 2: Calculate (n - r)!:\n",
            "factorial(1)\n",
            "\n",
            "Step 3: Compute nPr = 120 / 1\n",
            "Result: 5P4 = 120\n"
          ]
        }
      ],
      "source": [
        "def recursive_factorial(n, depth=0):\n",
        "    print(\"  \" * depth + f\"factorial({n})\")\n",
        "    if n == 0 or n == 1:\n",
        "        return 1\n",
        "    else:\n",
        "        return n * recursive_factorial(n - 1, depth + 1)\n",
        "\n",
        "def compute_permutation(n, r):\n",
        "    print(f\"\\nComputing {n}P{r} using nPr = n! / (n - r)!\")\n",
        "    print(\"Step 1: Calculate n!:\")\n",
        "    n_fact = recursive_factorial(n)\n",
        "\n",
        "    print(\"\\nStep 2: Calculate (n - r)!:\")\n",
        "    nr_fact = recursive_factorial(n - r)\n",
        "\n",
        "    print(f\"\\nStep 3: Compute nPr = {n_fact} / {nr_fact}\")\n",
        "    permutation = n_fact // nr_fact\n",
        "    print(f\"Result: {n}P{r} = {permutation}\")\n",
        "    return permutation\n",
        "\n",
        "def main():\n",
        "    print(\"=== Permutation Calculator (nPr) ===\")\n",
        "    try:\n",
        "        n = int(input(\"Enter total number of people/items (n): \"))\n",
        "        r = int(input(\"Enter number of places/positions (r): \"))\n",
        "\n",
        "        if n < 0 or r < 0:\n",
        "            print(\"Error: n and r must be non-negative integers.\")\n",
        "        elif n < r:\n",
        "            print(\"Error: n must be greater than or equal to r.\")\n",
        "        else:\n",
        "            compute_permutation(n, r)\n",
        "    except ValueError:\n",
        "        print(\"Please enter valid integers for n and r.\")\n",
        "\n",
        "if __name__ == \"__main__\":\n",
        "    main()\n"
      ]
    },
    {
      "cell_type": "code",
      "source": [
        "import sys\n",
        "\n",
        "# Optional plotting support\n",
        "try:\n",
        "    import matplotlib.pyplot as plt\n",
        "    PLOTTING_AVAILABLE = True\n",
        "except ImportError:\n",
        "    PLOTTING_AVAILABLE = False\n",
        "\n",
        "# Recursive factorial with error handling and tracing\n",
        "def recursive_factorial(n, depth=0):\n",
        "    print(\"  \" * depth + f\"factorial({n})\")\n",
        "    if n == 0 or n == 1:\n",
        "        return 1\n",
        "    return n * recursive_factorial(n - 1, depth + 1)\n",
        "\n",
        "# Iterative factorial (safe for large n)\n",
        "def iterative_factorial(n):\n",
        "    result = 1\n",
        "    for i in range(2, n + 1):\n",
        "        result *= i\n",
        "    return result\n",
        "\n",
        "def compare_factorials(n):\n",
        "    print(f\"\\nComparing Recursive vs Iterative Factorial for n = {n}\")\n",
        "    print(f\"Python Recursion Limit: {sys.getrecursionlimit()}\")\n",
        "\n",
        "    if n > sys.getrecursionlimit() - 1:\n",
        "        print(\"WARNING: n exceeds safe recursion limit. Recursive method may fail.\")\n",
        "\n",
        "    try:\n",
        "        print(\"\\nRecursive Factorial Result:\")\n",
        "        rec_result = recursive_factorial(n)\n",
        "        print(f\"Recursive: {n}! = {rec_result}\")\n",
        "    except RecursionError:\n",
        "        print(\"RecursionError: Maximum recursion depth exceeded for recursive factorial.\")\n",
        "\n",
        "    print(\"\\nIterative Factorial Result:\")\n",
        "    iter_result = iterative_factorial(n)\n",
        "    print(f\"Iterative: {n}! = {iter_result}\")\n",
        "\n",
        "    if 'rec_result' in locals() and rec_result == iter_result:\n",
        "        print(\"\\nBoth methods give the same result.\")\n",
        "    else:\n",
        "        print(\"\\nResults are not comparable due to recursion failure.\")\n",
        "\n",
        "def plot_factorial_growth(max_n):\n",
        "    if not PLOTTING_AVAILABLE:\n",
        "        print(\"matplotlib is not available. Skipping plot.\")\n",
        "        return\n",
        "\n",
        "    print(f\"\\nPlotting factorial growth up to {max_n}\")\n",
        "    import math\n",
        "    x = list(range(1, max_n + 1))\n",
        "    y = [math.factorial(i) for i in x]\n",
        "\n",
        "    plt.plot(x, y)\n",
        "    plt.title(\"Factorial Growth Curve\")\n",
        "    plt.xlabel(\"n\")\n",
        "    plt.ylabel(\"n!\")\n",
        "    plt.yscale(\"log\")  # Use logarithmic scale to handle large values\n",
        "    plt.grid(True)\n",
        "    plt.show()\n",
        "\n",
        "def main():\n",
        "    print(\"=== Large Factorial Calculator ===\")\n",
        "    try:\n",
        "        n = int(input(\"Enter a non-negative integer n: \"))\n",
        "        if n < 0:\n",
        "            print(\"Error: n must be a non-negative integer.\")\n",
        "            return\n",
        "        compare_factorials(n)\n",
        "\n",
        "        choice = input(\"\\nDo you want to plot factorial growth? (y/n): \").lower()\n",
        "        if choice == 'y':\n",
        "            max_n = int(input(\"Enter max value of n for plotting: \"))\n",
        "            plot_factorial_growth(max_n)\n",
        "\n",
        "    except ValueError:\n",
        "        print(\"Invalid input. Please enter a valid integer.\")\n",
        "\n",
        "if __name__ == \"__main__\":\n",
        "    main()\n"
      ],
      "metadata": {
        "colab": {
          "base_uri": "https://localhost:8080/"
        },
        "id": "NW-GQEGr5mjf",
        "outputId": "61ab81db-b672-4fda-c3c0-f2dc347d1e97"
      },
      "execution_count": 3,
      "outputs": [
        {
          "name": "stdout",
          "output_type": "stream",
          "text": [
            "=== Large Factorial Calculator ===\n",
            "Enter a non-negative integer n: 8\n",
            "\n",
            "Comparing Recursive vs Iterative Factorial for n = 8\n",
            "Python Recursion Limit: 1000\n",
            "\n",
            "Recursive Factorial Result:\n",
            "factorial(8)\n",
            "  factorial(7)\n",
            "    factorial(6)\n",
            "      factorial(5)\n",
            "        factorial(4)\n",
            "          factorial(3)\n",
            "            factorial(2)\n",
            "              factorial(1)\n",
            "Recursive: 8! = 40320\n",
            "\n",
            "Iterative Factorial Result:\n",
            "Iterative: 8! = 40320\n",
            "\n",
            "Both methods give the same result.\n",
            "\n",
            "Do you want to plot factorial growth? (y/n): 6\n"
          ]
        }
      ]
    }
  ]
}
