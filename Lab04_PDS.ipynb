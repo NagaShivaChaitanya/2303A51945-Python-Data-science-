{
  "nbformat": 4,
  "nbformat_minor": 0,
  "metadata": {
    "colab": {
      "provenance": [],
      "authorship_tag": "ABX9TyPdsHV9m4WHGjWyTIFfZv63",
      "include_colab_link": true
    },
    "kernelspec": {
      "name": "python3",
      "display_name": "Python 3"
    },
    "language_info": {
      "name": "python"
    }
  },
  "cells": [
    {
      "cell_type": "markdown",
      "metadata": {
        "id": "view-in-github",
        "colab_type": "text"
      },
      "source": [
        "<a href=\"https://colab.research.google.com/github/NagaShivaChaitanya/2303A51945-Python-Data-science-/blob/main/Lab04_PDS.ipynb\" target=\"_parent\"><img src=\"https://colab.research.google.com/assets/colab-badge.svg\" alt=\"Open In Colab\"/></a>"
      ]
    },
    {
      "cell_type": "code",
      "execution_count": 2,
      "metadata": {
        "colab": {
          "base_uri": "https://localhost:8080/"
        },
        "id": "kXOM_ooPkrs2",
        "outputId": "f590518b-4c73-4204-cc44-f041aeb5c1f8"
      },
      "outputs": [
        {
          "output_type": "stream",
          "name": "stdout",
          "text": [
            "Filtered Feedback:\n",
            "   User_ID              Course_Name  Rating                       Feedback  \\\n",
            "0      101  Python for Data Science     5.0  Great course, very practical!   \n",
            "3      104  Python for Data Science     4.0    Well explained and detailed   \n",
            "\n",
            "         Date  \n",
            "0  2025-08-01  \n",
            "3  2025-08-10  \n"
          ]
        }
      ],
      "source": [
        "import pandas as pd\n",
        "# Load the original dataset\n",
        "df = pd.read_csv(\"course_feedback.csv\")\n",
        "# Filter feedback for Python for Data Science with Rating >= 4\n",
        "filtered_df = df[\n",
        "(df[\"Course_Name\"] == \"Python for Data Science\") &\n",
        "(df[\"Rating\"].notna()) &\n",
        "(df[\"Rating\"] >= 4) # This line caused the error\n",
        "]\n",
        "# Save to new CSV\n",
        "filtered_df.to_csv(\"filtered_feedback.csv\", index=False)\n",
        "print(\"Filtered Feedback:\")\n",
        "print(filtered_df)"
      ]
    },
    {
      "cell_type": "code",
      "source": [
        "import pandas as pd\n",
        "# Load the dataset\n",
        "df = pd.read_csv(\"air_pollution.csv\")\n",
        "print(\"Original Data:\\n\", df, \"\\n\")\n",
        "# Handle missing values with forward fill1\n",
        "df = df.ffill()\n",
        "print(\"After Forward Fill:\\n\", df, \"\\n\")\n",
        "# Filter polluted days (PM2.5 > 150 and NO2 > 80)\n",
        "polluted_days = df[(df[\"PM2.5\"] > 150) & (df[\"NO2\"] > 80)]\n",
        "# Save filtered data to CSV\n",
        "polluted_days.to_csv(\"polluted_days.csv\", index=False)\n",
        "print(\"Polluted Days (PM2.5 > 150 and NO2 > 80):\\n\", polluted_days)"
      ],
      "metadata": {
        "colab": {
          "base_uri": "https://localhost:8080/"
        },
        "id": "896MgPiklB1N",
        "outputId": "fbe18b8f-e20b-4f3a-c7ff-e3be39991a60"
      },
      "execution_count": 4,
      "outputs": [
        {
          "output_type": "stream",
          "name": "stdout",
          "text": [
            "Original Data:\n",
            "     Location  PM2.5   PM10    NO2   SO2        Date\n",
            "0  Hyderabad  120.0  250.0   70.0  15.0  2025-08-20\n",
            "1      Delhi  180.0    NaN   90.0  20.0  2025-08-21\n",
            "2     Mumbai    NaN  180.0   60.0   NaN  2025-08-22\n",
            "3    Chennai   95.0  140.0    NaN  10.0  2025-08-23\n",
            "4  Bengaluru  200.0  220.0  100.0  25.0  2025-08-24 \n",
            "\n",
            "After Forward Fill:\n",
            "     Location  PM2.5   PM10    NO2   SO2        Date\n",
            "0  Hyderabad  120.0  250.0   70.0  15.0  2025-08-20\n",
            "1      Delhi  180.0  250.0   90.0  20.0  2025-08-21\n",
            "2     Mumbai  180.0  180.0   60.0  20.0  2025-08-22\n",
            "3    Chennai   95.0  140.0   60.0  10.0  2025-08-23\n",
            "4  Bengaluru  200.0  220.0  100.0  25.0  2025-08-24 \n",
            "\n",
            "Polluted Days (PM2.5 > 150 and NO2 > 80):\n",
            "     Location  PM2.5   PM10    NO2   SO2        Date\n",
            "1      Delhi  180.0  250.0   90.0  20.0  2025-08-21\n",
            "4  Bengaluru  200.0  220.0  100.0  25.0  2025-08-24\n"
          ]
        }
      ]
    }
  ]
}