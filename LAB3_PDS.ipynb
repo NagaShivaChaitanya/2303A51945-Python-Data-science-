{
  "nbformat": 4,
  "nbformat_minor": 0,
  "metadata": {
    "colab": {
      "provenance": [],
      "authorship_tag": "ABX9TyOn0p7Rdng5MPI6FruwNFlZ",
      "include_colab_link": true
    },
    "kernelspec": {
      "name": "python3",
      "display_name": "Python 3"
    },
    "language_info": {
      "name": "python"
    }
  },
  "cells": [
    {
      "cell_type": "markdown",
      "metadata": {
        "id": "view-in-github",
        "colab_type": "text"
      },
      "source": [
        "<a href=\"https://colab.research.google.com/github/NagaShivaChaitanya/2303A51945-Python-Data-science-/blob/main/LAB3_PDS.ipynb\" target=\"_parent\"><img src=\"https://colab.research.google.com/assets/colab-badge.svg\" alt=\"Open In Colab\"/></a>"
      ]
    },
    {
      "cell_type": "code",
      "execution_count": 2,
      "metadata": {
        "colab": {
          "base_uri": "https://localhost:8080/"
        },
        "id": "49fu7rn38uCh",
        "outputId": "dd24fb6b-7c6c-4a2b-b4ce-55b618922cd8"
      },
      "outputs": [
        {
          "output_type": "stream",
          "name": "stdout",
          "text": [
            "=== Test Scores (4x4 Matrix) ===\n",
            "[[88 78 64 92]\n",
            " [57 70 88 68]\n",
            " [72 60 60 73]\n",
            " [85 89 73 52]]\n",
            "\n",
            "Row-wise Mean (per student): [80.5  70.75 66.25 74.75]\n",
            "Column-wise Mean (per subject): [75.5  74.25 71.25 71.25]\n",
            "\n",
            "Standard Deviation (overall): 12.214073593605043\n",
            "Variance (overall): 149.18359375\n",
            "\n",
            "Global Maximum Score: 92 at index (np.int64(0), np.int64(3))\n",
            "Global Minimum Score: 52 at index (np.int64(3), np.int64(3))\n",
            "\n",
            "Column-wise Maximums: [88 89 88 92]\n",
            "Column-wise Minimums: [57 60 60 52]\n",
            "\n",
            "Row-wise Standard Deviation: [10.80509139 11.12148821  6.25999201 14.39400917]\n",
            "\n",
            "=== Summary of Statistical Insights ===\n",
            "Overall mean score: 73.06\n",
            "Highest score: 92 at (np.int64(0), np.int64(3))\n",
            "Lowest score: 52 at (np.int64(3), np.int64(3))\n",
            "Most consistent performer (lowest std): Student 2\n",
            "Subject with highest average: Subject 0\n",
            "Subject with lowest average: Subject 2\n"
          ]
        }
      ],
      "source": [
        "import numpy as np\n",
        "\n",
        "np.random.seed(42)\n",
        "scores = np.random.randint(50, 100, size=(4, 4))\n",
        "\n",
        "print(\"=== Test Scores (4x4 Matrix) ===\")\n",
        "print(scores)\n",
        "\n",
        "row_mean = np.mean(scores, axis=1)\n",
        "print(\"\\nRow-wise Mean (per student):\", row_mean)\n",
        "\n",
        "col_mean = np.mean(scores, axis=0)\n",
        "print(\"Column-wise Mean (per subject):\", col_mean)\n",
        "\n",
        "std_dev = np.std(scores)\n",
        "print(\"\\nStandard Deviation (overall):\", std_dev)\n",
        "\n",
        "variance = np.var(scores)\n",
        "print(\"Variance (overall):\", variance)\n",
        "\n",
        "global_max = np.max(scores)\n",
        "global_min = np.min(scores)\n",
        "max_index = np.unravel_index(np.argmax(scores), scores.shape)\n",
        "min_index = np.unravel_index(np.argmin(scores), scores.shape)\n",
        "\n",
        "print(\"\\nGlobal Maximum Score:\", global_max, \"at index\", max_index)\n",
        "print(\"Global Minimum Score:\", global_min, \"at index\", min_index)\n",
        "\n",
        "col_max = np.max(scores, axis=0)\n",
        "col_min = np.min(scores, axis=0)\n",
        "print(\"\\nColumn-wise Maximums:\", col_max)\n",
        "print(\"Column-wise Minimums:\", col_min)\n",
        "\n",
        "row_std = np.std(scores, axis=1)\n",
        "print(\"\\nRow-wise Standard Deviation:\", row_std)\n",
        "\n",
        "print(\"\\n=== Summary of Statistical Insights ===\")\n",
        "print(f\"Overall mean score: {np.mean(scores):.2f}\")\n",
        "print(f\"Highest score: {global_max} at {max_index}\")\n",
        "print(f\"Lowest score: {global_min} at {min_index}\")\n",
        "print(f\"Most consistent performer (lowest std): Student {np.argmin(row_std)}\")\n",
        "print(f\"Subject with highest average: Subject {np.argmax(col_mean)}\")\n",
        "print(f\"Subject with lowest average: Subject {np.argmin(col_mean)}\")\n"
      ]
    },
    {
      "cell_type": "code",
      "source": [
        "import numpy as np\n",
        "import matplotlib.pyplot as plt\n",
        "\n",
        "np.random.seed(0)\n",
        "image = np.random.randint(0, 256, size=(3, 3, 3), dtype=np.uint8)\n",
        "\n",
        "print(\"Original RGB Image Array:\\n\", image)\n",
        "\n",
        "red_channel = image[:, :, 0]\n",
        "green_channel = image[:, :, 1]\n",
        "blue_channel = image[:, :, 2]\n",
        "\n",
        "print(\"\\nRed Channel:\\n\", red_channel)\n",
        "print(\"\\nGreen Channel:\\n\", green_channel)\n",
        "print(\"\\nBlue Channel:\\n\", blue_channel)\n",
        "\n",
        "avg_red = np.mean(red_channel)\n",
        "avg_green = np.mean(green_channel)\n",
        "avg_blue = np.mean(blue_channel)\n",
        "\n",
        "print(\"\\nAverage Intensities:\")\n",
        "print(f\"Red: {avg_red:.2f}, Green: {avg_green:.2f}, Blue: {avg_blue:.2f}\")\n",
        "\n",
        "brightened_image = np.clip(image + 50, 0, 255)\n",
        "\n",
        "print(\"\\nBrightened Image Array:\\n\", brightened_image)\n",
        "\n",
        "def show_image(img, title):\n",
        "    plt.imshow(img)\n",
        "    plt.title(title)\n",
        "    plt.axis('off')\n",
        "    plt.show()\n",
        "\n",
        "show_image(image, \"Original RGB Image\")\n",
        "show_image(brightened_image, \"Brightened RGB Image\")\n"
      ],
      "metadata": {
        "colab": {
          "base_uri": "https://localhost:8080/",
          "height": 1000
        },
        "id": "lOw_wXv9EgPg",
        "outputId": "b511e06c-eb3c-42ac-ba99-995e06b26b52"
      },
      "execution_count": 3,
      "outputs": [
        {
          "output_type": "stream",
          "name": "stdout",
          "text": [
            "Original RGB Image Array:\n",
            " [[[172  10 127]\n",
            "  [140  47 170]\n",
            "  [196 151 117]]\n",
            "\n",
            " [[166  22 183]\n",
            "  [192 204  33]\n",
            "  [216  67 179]]\n",
            "\n",
            " [[ 78 154 251]\n",
            "  [ 82 162 219]\n",
            "  [195 118 125]]]\n",
            "\n",
            "Red Channel:\n",
            " [[172 140 196]\n",
            " [166 192 216]\n",
            " [ 78  82 195]]\n",
            "\n",
            "Green Channel:\n",
            " [[ 10  47 151]\n",
            " [ 22 204  67]\n",
            " [154 162 118]]\n",
            "\n",
            "Blue Channel:\n",
            " [[127 170 117]\n",
            " [183  33 179]\n",
            " [251 219 125]]\n",
            "\n",
            "Average Intensities:\n",
            "Red: 159.67, Green: 103.89, Blue: 156.00\n",
            "\n",
            "Brightened Image Array:\n",
            " [[[222  60 177]\n",
            "  [190  97 220]\n",
            "  [246 201 167]]\n",
            "\n",
            " [[216  72 233]\n",
            "  [242 254  83]\n",
            "  [ 10 117 229]]\n",
            "\n",
            " [[128 204  45]\n",
            "  [132 212  13]\n",
            "  [245 168 175]]]\n"
          ]
        },
        {
          "output_type": "display_data",
          "data": {
            "text/plain": [
              "<Figure size 640x480 with 1 Axes>"
            ],
            "image/png": "[encoded data removed]"
          },
          "metadata": {}
        },
        {
          "output_type": "display_data",
          "data": {
            "text/plain": [
              "<Figure size 640x480 with 1 Axes>"
            ],
            "image/png": "[encoded data removed]"
          },
          "metadata": {}
        }
      ]
    }
  ]
}